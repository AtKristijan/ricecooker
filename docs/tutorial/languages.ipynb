{
 "cells": [
  {
   "cell_type": "markdown",
   "metadata": {},
   "source": [
    "# Languages\n",
    "\n",
    "This tutorial will explain how to set the `language` property for various nodes and file objects when using the `ricecooker` framework."
   ]
  },
  {
   "cell_type": "markdown",
   "metadata": {},
   "source": []
  },
  {
   "cell_type": "markdown",
   "metadata": {},
   "source": [
    "## Explore language objects and language codes\n",
    "\n",
    "First we must import the `le-utils` pacakge. The languages supported by Kolibri and the Content Curation Server are provided in `le_utils.constants.languages`.\n"
   ]
  },
  {
   "cell_type": "code",
   "execution_count": 1,
   "metadata": {},
   "outputs": [
    {
     "data": {
      "text/plain": [
       "Language(native_name='English', primary_code='en', subcode=None, name='English', ka_name=None)"
      ]
     },
     "execution_count": 1,
     "metadata": {},
     "output_type": "execute_result"
    }
   ],
   "source": [
    "from le_utils.constants import languages as languages\n",
    "\n",
    "\n",
    "# can lookup language using language code\n",
    "language_obj = languages.getlang('en')\n",
    "language_obj"
   ]
  },
  {
   "cell_type": "code",
   "execution_count": 2,
   "metadata": {},
   "outputs": [
    {
     "data": {
      "text/plain": [
       "Language(native_name='English', primary_code='en', subcode=None, name='English', ka_name=None)"
      ]
     },
     "execution_count": 2,
     "metadata": {},
     "output_type": "execute_result"
    }
   ],
   "source": [
    "# can lookup language using language name (the new le_utils version has not shipped yet)\n",
    "language_obj = languages.getlang_by_name('English')\n",
    "language_obj"
   ]
  },
  {
   "cell_type": "code",
   "execution_count": 3,
   "metadata": {},
   "outputs": [
    {
     "data": {
      "text/plain": [
       "'en'"
      ]
     },
     "execution_count": 3,
     "metadata": {},
     "output_type": "execute_result"
    }
   ],
   "source": [
    "# all `language` attributed (channel, nodes, and files) need to use language code\n",
    "language_obj.code"
   ]
  },
  {
   "cell_type": "code",
   "execution_count": 4,
   "metadata": {},
   "outputs": [
    {
     "name": "stdout",
     "output_type": "stream",
     "text": [
      "Language(native_name='Français, langue française', primary_code='fr', subcode=None, name='French', ka_name='francais')\n",
      "fr\n"
     ]
    }
   ],
   "source": [
    "from le_utils.constants.languages import getlang_by_native_name\n",
    "\n",
    "lang_obj = getlang_by_native_name('français')\n",
    "print(lang_obj)\n",
    "print(lang_obj.code)\n"
   ]
  },
  {
   "cell_type": "markdown",
   "metadata": {},
   "source": [
    "The above language code is an internal representaiton that uses two-letter codes, and sometimes has a locale information, e.g., `pt-BR` for Brazilian Portuiguese. Sometimes the internal code representaiton for a language is the three-letter vesion, e.g., `zul` for Zulu."
   ]
  },
  {
   "cell_type": "code",
   "execution_count": null,
   "metadata": {},
   "outputs": [],
   "source": []
  },
  {
   "cell_type": "markdown",
   "metadata": {},
   "source": [
    "## Create chef class\n",
    "\n",
    "We now create subclass of `ricecooker.chefs.SushiChef` and defined its `get_channel` and `construct_channel` methods.\n",
    "\n",
    "For the purpose of this example, we'll create three topic nodes in different languages that contain one document in each."
   ]
  },
  {
   "cell_type": "code",
   "execution_count": 5,
   "metadata": {},
   "outputs": [],
   "source": [
    "from ricecooker.chefs import SushiChef\n",
    "from ricecooker.classes.nodes import ChannelNode, TopicNode, DocumentNode\n",
    "from ricecooker.classes.files import DocumentFile\n",
    "from le_utils.constants import languages\n",
    "from le_utils.constants import licenses\n",
    "\n",
    "\n",
    "class MySushiChef(SushiChef):\n",
    "    \"\"\"\n",
    "    A sushi chef that creates a channel with content in EN, FR, and SP.\n",
    "    \"\"\"\n",
    "    def get_channel(self, **kwargs):\n",
    "        channel = ChannelNode(\n",
    "            source_domain='testing.org',\n",
    "            source_id='lang_test_chanl',\n",
    "            title='Languages test channel',\n",
    "            thumbnail='http://themes.mysitemyway.com/_shared/images/flags.png',\n",
    "            language = languages.getlang('en').code   # set global language for channel (will apply as default option to all content items in this channel)\n",
    "        )\n",
    "        return channel\n",
    "\n",
    "    def construct_channel(self, **kwargs):\n",
    "        # create channel\n",
    "        channel = self.get_channel(**kwargs)\n",
    "\n",
    "        # create the English topic, add a DocumentNode to it\n",
    "        topic = TopicNode(\n",
    "            source_id=\"<en_topic_id>\",\n",
    "            title=\"New Topic in English\",\n",
    "            language=languages.getlang('en').code,\n",
    "        )\n",
    "        doc_node = DocumentNode(\n",
    "            source_id=\"<en_doc_id>\",\n",
    "            title='Some doc in English',\n",
    "            description='This is a sample document node in English',\n",
    "            files=[DocumentFile(path='samplefiles/documents/doc_EN.pdf')],\n",
    "            license=licenses.PUBLIC_DOMAIN,\n",
    "            language=languages.getlang('en').code,\n",
    "        )\n",
    "        topic.add_child(doc_node)\n",
    "        channel.add_child(topic)\n",
    "\n",
    "        # create the Spanish topic, add a DocumentNode to it\n",
    "        topic = TopicNode(\n",
    "            source_id=\"<es_topic_id>\",\n",
    "            title=\"Topic in Spanish\",\n",
    "            language=languages.getlang('es-MX').code,\n",
    "        )\n",
    "        doc_node = DocumentNode(\n",
    "            source_id=\"<es_doc_id>\",\n",
    "            title='Some doc in Spanish',\n",
    "            description='This is a sample document node in Spanish',\n",
    "            files=[DocumentFile(path='samplefiles/documents/doc_ES.pdf')],\n",
    "            license=licenses.PUBLIC_DOMAIN,\n",
    "            language=languages.getlang('es-MX').code,\n",
    "        )\n",
    "        topic.add_child(doc_node)\n",
    "        channel.add_child(topic)\n",
    "\n",
    "        # create the French topic, add a DocumentNode to it\n",
    "        topic = TopicNode(\n",
    "            source_id=\"<fr_topic_id>\",\n",
    "            title=\"Topic in French\",\n",
    "            language=languages.getlang('fr').code,\n",
    "        )\n",
    "        doc_node = DocumentNode(\n",
    "            source_id=\"<fr_doc_id>\",\n",
    "            title='Some doc in French',\n",
    "            description='This is a sample document node in French',\n",
    "            files=[DocumentFile(path='samplefiles/documents/doc_FR.pdf')],\n",
    "            license=licenses.PUBLIC_DOMAIN,\n",
    "            language=languages.getlang('fr').code,\n",
    "        )\n",
    "        topic.add_child(doc_node)\n",
    "        channel.add_child(topic)\n",
    "\n",
    "        return channel\n"
   ]
  },
  {
   "cell_type": "markdown",
   "metadata": {},
   "source": [
    "Run of you chef by creating an instance of the chef class and calling it's `run` method:"
   ]
  },
  {
   "cell_type": "code",
   "execution_count": 6,
   "metadata": {},
   "outputs": [
    {
     "name": "stderr",
     "output_type": "stream",
     "text": [
      "Logged in with username you@yourdomain.org\n",
      "Ricecooker v0.6.19 is up-to-date.\n",
      "Running get_channel... \n",
      "run_id: 27a7726c4b2b418fb0f7b1842f6abe84\n",
      "\n",
      "\n",
      "***** Starting channel build process *****\n",
      "\n",
      "\n",
      "Calling construct_channel... \n",
      "   Setting up initial channel structure... \n",
      "   Validating channel structure...\n",
      "      Languages test channel (ChannelNode): 6 descendants\n",
      "         New Topic in English (TopicNode): 1 descendant\n",
      "            Some doc in English (DocumentNode): 1 file\n",
      "         Topic in Spanish (TopicNode): 1 descendant\n",
      "            Some doc in Spanish (DocumentNode): 1 file\n",
      "         Topic in French (TopicNode): 1 descendant\n",
      "            Some doc in French (DocumentNode): 1 file\n",
      "   Tree is valid\n",
      "\n",
      "Downloading files...\n",
      "Processing content...\n",
      "\t--- Downloaded e8b1fe37ce3da500241b4af4e018a2d7.pdf\n",
      "\t--- Downloaded cef22cce0e1d3ba08861fc97476b8ccf.pdf\n",
      "\t--- Downloaded 6c8730e3e2554e6eac0ad79304bbcc68.pdf\n",
      "\t--- Downloaded de498249b8d4395a4ef9db17ec02dc91.png\n",
      "   All files were successfully downloaded\n",
      "Getting file diff...\n",
      "\n",
      "Checking if files exist on Kolibri Studio...\n",
      "\tGot file diff for 4 out of 4 files\n",
      "Uploading files...\n",
      "\n",
      "Uploading 0 new file(s) to Kolibri Studio...\n",
      "Creating channel...\n",
      "\n",
      "Creating tree on Kolibri Studio...\n",
      "   Creating channel Languages test channel\n",
      "\tPreparing fields...\n",
      "(0 of 6 uploaded)    Processing Languages test channel (ChannelNode)\n",
      "(3 of 6 uploaded)       Processing New Topic in English (TopicNode)\n",
      "(4 of 6 uploaded)       Processing Topic in Spanish (TopicNode)\n",
      "(5 of 6 uploaded)       Processing Topic in French (TopicNode)\n",
      "   All nodes were created successfully.\n",
      "Upload time: 6.641212s\n",
      "Publishing channel...\n",
      "\n",
      "Publishing tree to Kolibri... \n",
      "\n",
      "\n",
      "DONE: Channel created at https://contentworkshop.learningequality.org/channels/cba91822d3ab5a748cd19532661d690f/edit\n",
      "\n"
     ]
    }
   ],
   "source": [
    "mychef = MySushiChef()\n",
    "args = {'token': 'YOURTOKENHERE9139139f3a23232',\n",
    "        'reset': True,\n",
    "        'verbose': True,\n",
    "        'publish': True}\n",
    "options = {}\n",
    "mychef.run(args, options)"
   ]
  },
  {
   "cell_type": "markdown",
   "metadata": {},
   "source": [
    "Congratulations, you put three languages on the internet!"
   ]
  },
  {
   "cell_type": "code",
   "execution_count": null,
   "metadata": {},
   "outputs": [],
   "source": []
  },
  {
   "cell_type": "code",
   "execution_count": null,
   "metadata": {},
   "outputs": [],
   "source": []
  },
  {
   "cell_type": "markdown",
   "metadata": {},
   "source": [
    "## Example 2: YouTube video with subtitles in multiple languages\n",
    "\n",
    "You can use the library `youtube_dl` to get lots of useful metadata about videos and playlists, including the which language subtitle are vailable for a video.\n"
   ]
  },
  {
   "cell_type": "code",
   "execution_count": 7,
   "metadata": {},
   "outputs": [
    {
     "name": "stdout",
     "output_type": "stream",
     "text": [
      "dict_keys(['en', 'fr', 'zu'])\n"
     ]
    }
   ],
   "source": [
    "import youtube_dl\n",
    "\n",
    "ydl = youtube_dl.YoutubeDL({\n",
    "    'quiet': True,\n",
    "    'no_warnings': True,\n",
    "    'writesubtitles': True,\n",
    "    'allsubtitles': True,\n",
    "})\n",
    "\n",
    "\n",
    "youtube_id =  'FN12ty5ztAs'\n",
    "\n",
    "info = ydl.extract_info(youtube_id, download=False)\n",
    "subtitle_languages = info[\"subtitles\"].keys()\n",
    "\n",
    "print(subtitle_languages)"
   ]
  },
  {
   "cell_type": "code",
   "execution_count": null,
   "metadata": {},
   "outputs": [],
   "source": [
    "\n"
   ]
  },
  {
   "cell_type": "markdown",
   "metadata": {},
   "source": [
    "### Full sushi chef example\n",
    "\n",
    "The `YoutubeVideoWithSubtitlesSushiChef` class below shows how to create a channel with youtube video and upload subtitles files with all available languages."
   ]
  },
  {
   "cell_type": "code",
   "execution_count": 8,
   "metadata": {},
   "outputs": [],
   "source": [
    "from ricecooker.chefs import SushiChef\n",
    "from ricecooker.classes import licenses\n",
    "from ricecooker.classes.nodes import ChannelNode, TopicNode, VideoNode\n",
    "from ricecooker.classes.files import YouTubeVideoFile, YouTubeSubtitleFile\n",
    "from ricecooker.classes.files import is_youtube_subtitle_file_supported_language\n",
    "\n",
    "\n",
    "import youtube_dl\n",
    "ydl = youtube_dl.YoutubeDL({\n",
    "    'quiet': True,\n",
    "    'no_warnings': True,\n",
    "    'writesubtitles': True,\n",
    "    'allsubtitles': True,\n",
    "})\n",
    "\n",
    "\n",
    "# Define the license object with necessary info\n",
    "TE_LICENSE = licenses.SpecialPermissionsLicense(\n",
    "    description='Permission granted by Touchable Earth to distribute through Kolibri.',\n",
    "    copyright_holder='Touchable Earth Foundation (New Zealand)'\n",
    ")\n",
    "\n",
    "\n",
    "class YoutubeVideoWithSubtitlesSushiChef(SushiChef):\n",
    "    \"\"\"\n",
    "    A sushi chef that creates a channel with content in EN, FR, and SP.\n",
    "    \"\"\"\n",
    "    channel_info = {\n",
    "        'CHANNEL_SOURCE_DOMAIN': 'learningequality.org',        # change me!\n",
    "        'CHANNEL_SOURCE_ID': 'sample_youtube_video_with_subs',  # change me!\n",
    "        'CHANNEL_TITLE': 'Youtube subtitles downloading chef',\n",
    "        'CHANNEL_LANGUAGE': 'en',\n",
    "        'CHANNEL_THUMBNAIL': 'http://themes.mysitemyway.com/_shared/images/flags.png',\n",
    "        'CHANNEL_DESCRIPTION': 'This is a test channel to make sure youtube subtitle languages lookup works'\n",
    "    }\n",
    "\n",
    "    def construct_channel(self, **kwargs):\n",
    "        # create channel\n",
    "        channel = self.get_channel(**kwargs)\n",
    "\n",
    "        # get all subtitles available for a sample video\n",
    "        youtube_id =  'FN12ty5ztAs'\n",
    "        info = ydl.extract_info(youtube_id, download=False)\n",
    "        subtitle_languages = info[\"subtitles\"].keys()\n",
    "        print('Found subtitle_languages = ', subtitle_languages)\n",
    "        \n",
    "        # create video node\n",
    "        video_node = VideoNode(\n",
    "            source_id=youtube_id,\n",
    "            title='Youtube video',\n",
    "            license=TE_LICENSE,\n",
    "            derive_thumbnail=True,\n",
    "            files=[YouTubeVideoFile(youtube_id=youtube_id)],\n",
    "        )\n",
    "\n",
    "        # add subtitles in whichever languages are available.\n",
    "        for lang_code in subtitle_languages:\n",
    "            if is_youtube_subtitle_file_supported_language(lang_code):\n",
    "                video_node.add_file(\n",
    "                    YouTubeSubtitleFile(\n",
    "                        youtube_id=youtube_id,\n",
    "                        language=lang_code\n",
    "                    )\n",
    "                )\n",
    "            else:\n",
    "                print('Unsupported subtitle language code:', lang_code)\n",
    "\n",
    "        channel.add_child(video_node)\n",
    "\n",
    "        return channel\n",
    "\n",
    "    "
   ]
  },
  {
   "cell_type": "code",
   "execution_count": null,
   "metadata": {},
   "outputs": [
    {
     "name": "stderr",
     "output_type": "stream",
     "text": [
      "Logged in with username you@yourdomain.org\n",
      "Ricecooker v0.6.19 is up-to-date.\n",
      "Running get_channel... \n",
      "run_id: 682e56ae42c246eb8c307bae35122e9e\n",
      "\n",
      "\n",
      "***** Starting channel build process *****\n",
      "\n",
      "\n",
      "Calling construct_channel... \n"
     ]
    },
    {
     "name": "stdout",
     "output_type": "stream",
     "text": [
      "Found subtitle_languages =  dict_keys(['en', 'fr', 'zu'])\n"
     ]
    },
    {
     "name": "stderr",
     "output_type": "stream",
     "text": [
      "   Setting up initial channel structure... \n",
      "   Validating channel structure...\n",
      "      Youtube subtitles downloading chef (ChannelNode): 1 descendant\n",
      "         Youtube video (VideoNode): 4 files\n",
      "   Tree is valid\n",
      "\n",
      "Downloading files...\n",
      "Processing content...\n",
      "\t--- Downloaded (YouTube) 987257c13adb6d2f2c86849be6031a4c.mp4\n",
      "\t--- Downloaded subtitle f589321457f81efd035bb72cb57a1b3b.vtt\n",
      "\t--- Downloaded subtitle 99d24a5240d64e505a6343f50f851d2e.vtt\n",
      "\t--- Downloaded subtitle a1477da82f45e776b7f889b67358e761.vtt\n",
      "\t--- Extracted thumbnail 2646f5028c7925c0d304c709d39cf5b0.png\n",
      "\t--- Downloaded de498249b8d4395a4ef9db17ec02dc91.png\n",
      "   All files were successfully downloaded\n",
      "Getting file diff...\n",
      "\n",
      "Checking if files exist on Kolibri Studio...\n",
      "\tGot file diff for 6 out of 6 files\n",
      "Uploading files...\n",
      "\n",
      "Uploading 0 new file(s) to Kolibri Studio...\n"
     ]
    }
   ],
   "source": [
    "chef = YoutubeVideoWithSubtitlesSushiChef()\n",
    "args = {'token': 'YOURTOKENHERE9139139f3a23232',\n",
    "        'reset': True,\n",
    "        'verbose': True,\n",
    "        'publish': True}\n",
    "options = {}\n",
    "chef.run(args, options)"
   ]
  },
  {
   "cell_type": "code",
   "execution_count": null,
   "metadata": {},
   "outputs": [],
   "source": []
  }
 ],
 "metadata": {
  "kernelspec": {
   "display_name": "Python 3",
   "language": "python",
   "name": "python3"
  },
  "language_info": {
   "codemirror_mode": {
    "name": "ipython",
    "version": 3
   },
   "file_extension": ".py",
   "mimetype": "text/x-python",
   "name": "python",
   "nbconvert_exporter": "python",
   "pygments_lexer": "ipython3",
   "version": "3.6.5"
  }
 },
 "nbformat": 4,
 "nbformat_minor": 2
}
