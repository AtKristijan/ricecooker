{
 "cells": [
  {
   "cell_type": "markdown",
   "metadata": {},
   "source": [
    "# Languages\n",
    "\n",
    "This tutorial will explain how to set the `language` property for various nodes and file objects when using the `ricecooker` framework."
   ]
  },
  {
   "cell_type": "markdown",
   "metadata": {},
   "source": [
    "## Import libraries\n",
    "\n",
    "  - We create a sushi chef class by subclassing `ricecooker.chefs.SushiChef`.\n",
    "  - The languages supported by Kolibri and the Content Curation Server are provided in `le_utils.constants.languages`.\n",
    "  - We'll also use `TopicNode` (folders) and `DocumentNode` (PDFs) nodes,\n",
    "    and a `DocumentFile` (PDF)\n",
    "  - We'll also need the constants in `licenses` to set node's licenses (required attribute)\n"
   ]
  },
  {
   "cell_type": "code",
   "execution_count": 1,
   "metadata": {},
   "outputs": [],
   "source": [
    "from ricecooker.chefs import SushiChef\n",
    "from le_utils.constants import languages as languages\n",
    "from ricecooker.classes.nodes import ChannelNode, TopicNode, DocumentNode\n",
    "from ricecooker.classes.files import DocumentFile\n",
    "from le_utils.constants import licenses"
   ]
  },
  {
   "cell_type": "markdown",
   "metadata": {},
   "source": [
    "## Explore language objects and language codes"
   ]
  },
  {
   "cell_type": "code",
   "execution_count": 2,
   "metadata": {},
   "outputs": [
    {
     "data": {
      "text/plain": [
       "Language(native_name='English', primary_code='en', subcode=None, name='English', ka_name=None)"
      ]
     },
     "execution_count": 2,
     "metadata": {},
     "output_type": "execute_result"
    }
   ],
   "source": [
    "# can lookup language using language code\n",
    "language_obj = languages.getlang('en')\n",
    "language_obj"
   ]
  },
  {
   "cell_type": "code",
   "execution_count": 3,
   "metadata": {},
   "outputs": [],
   "source": [
    "# can lookup language using language name (the new le_utils version has not shipped yet)\n",
    "# language_obj = languages.getlang_by_name('English')\n",
    "# language_obj"
   ]
  },
  {
   "cell_type": "code",
   "execution_count": 4,
   "metadata": {},
   "outputs": [
    {
     "data": {
      "text/plain": [
       "'en'"
      ]
     },
     "execution_count": 4,
     "metadata": {},
     "output_type": "execute_result"
    }
   ],
   "source": [
    "# all `language` attributed (channel, nodes, and files) need to use language code\n",
    "language_obj.code"
   ]
  },
  {
   "cell_type": "markdown",
   "metadata": {},
   "source": [
    "The above language code is an internal representaiton that uses two-letter codes, and sometimes has a locale information, e.g., `pt-BR` for Brazilian Portuiguese. Sometimes the internal code representaiton for a language is the three-letter vesion, e.g., `zul` for Zulu."
   ]
  },
  {
   "cell_type": "code",
   "execution_count": null,
   "metadata": {
    "collapsed": true
   },
   "outputs": [],
   "source": []
  },
  {
   "cell_type": "markdown",
   "metadata": {},
   "source": [
    "## Create chef class\n",
    "\n",
    "We now create subclass of `ricecooker.chefs.SushiChef` and defined its `get_channel` and `construct_channel` methods.\n",
    "\n",
    "For the purpose of this example, we'll create three topic nodes in different languages that contain one document in each."
   ]
  },
  {
   "cell_type": "code",
   "execution_count": 5,
   "metadata": {
    "collapsed": true
   },
   "outputs": [],
   "source": [
    "class MySushiChef(SushiChef):\n",
    "    \"\"\"\n",
    "    A sushi chef that creates a channel with content in EN, FR, and SP.\n",
    "    \"\"\"\n",
    "    def get_channel(self, **kwargs):\n",
    "        channel = ChannelNode(\n",
    "            source_domain='testing.org',\n",
    "            source_id='lang_test_chanl',\n",
    "            title='Languages test channel',\n",
    "            thumbnail='http://themes.mysitemyway.com/_shared/images/flags.png',\n",
    "            language = languages.getlang('en').code   # set global language for channel (will apply as default option to all content items in this channel)\n",
    "        )\n",
    "        return channel\n",
    "\n",
    "    def construct_channel(self, **kwargs):\n",
    "        # create channel\n",
    "        channel = self.get_channel(**kwargs)\n",
    "\n",
    "        # create the English topic, add a DocumentNode to it\n",
    "        topic = TopicNode(\n",
    "            source_id=\"<en_topic_id>\",\n",
    "            title=\"New Topic in English\",\n",
    "            language=languages.getlang('en').code,\n",
    "        )\n",
    "        doc_node = DocumentNode(\n",
    "            source_id=\"<en_doc_id>\",\n",
    "            title='Some doc in English',\n",
    "            description='This is a sample document node in English',\n",
    "            files=[DocumentFile(path='samplefiles/documents/doc_EN.pdf')],\n",
    "            license=licenses.PUBLIC_DOMAIN,\n",
    "            language=languages.getlang('en').code,\n",
    "        )\n",
    "        topic.add_child(doc_node)\n",
    "        channel.add_child(topic)\n",
    "\n",
    "        # create the Spanish topic, add a DocumentNode to it\n",
    "        topic = TopicNode(\n",
    "            source_id=\"<es_topic_id>\",\n",
    "            title=\"Topic in Spanish\",\n",
    "            language=languages.getlang('es-MX').code,\n",
    "        )\n",
    "        doc_node = DocumentNode(\n",
    "            source_id=\"<es_doc_id>\",\n",
    "            title='Some doc in Spanish',\n",
    "            description='This is a sample document node in Spanish',\n",
    "            files=[DocumentFile(path='samplefiles/documents/doc_ES.pdf')],\n",
    "            license=licenses.PUBLIC_DOMAIN,\n",
    "            language=languages.getlang('es-MX').code,\n",
    "        )\n",
    "        topic.add_child(doc_node)\n",
    "        channel.add_child(topic)\n",
    "\n",
    "        # create the French topic, add a DocumentNode to it\n",
    "        topic = TopicNode(\n",
    "            source_id=\"<fr_topic_id>\",\n",
    "            title=\"Topic in French\",\n",
    "            language=languages.getlang('fr').code,\n",
    "        )\n",
    "        doc_node = DocumentNode(\n",
    "            source_id=\"<fr_doc_id>\",\n",
    "            title='Some doc in English',\n",
    "            description='This is a sample document node in French',\n",
    "            files=[DocumentFile(path='samplefiles/documents/doc_FR.pdf')],\n",
    "            license=licenses.PUBLIC_DOMAIN,\n",
    "            language=languages.getlang('fr').code,\n",
    "        )\n",
    "        topic.add_child(doc_node)\n",
    "        channel.add_child(topic)\n",
    "\n",
    "        return channel\n"
   ]
  },
  {
   "cell_type": "code",
   "execution_count": null,
   "metadata": {
    "collapsed": true
   },
   "outputs": [],
   "source": []
  },
  {
   "cell_type": "code",
   "execution_count": null,
   "metadata": {
    "collapsed": true
   },
   "outputs": [],
   "source": []
  },
  {
   "cell_type": "markdown",
   "metadata": {},
   "source": [
    "Run of you chef by creating an instance of the chef class and calling it's `run` method:"
   ]
  },
  {
   "cell_type": "code",
   "execution_count": 6,
   "metadata": {},
   "outputs": [
    {
     "name": "stderr",
     "output_type": "stream",
     "text": [
      "Logged in with username you@yourdomain.org\n",
      "You are using Ricecooker v0.6.2, however v0.6.3 is available. You should consider upgrading your Ricecooker.\n",
      "Running get_channel... \n",
      "Error channel exists: HTTPSConnectionPool(host='127.0.0.1', port=8000): Max retries exceeded with url: /api/channels/cba91822d3ab5a748cd19532661d690f/ (Caused by NewConnectionError('<urllib3.connection.VerifiedHTTPSConnection object at 0x10a6a9e80>: Failed to establish a new connection: [Errno 61] Connection refused',))\n",
      "Error channel: HTTPSConnectionPool(host='127.0.0.1', port=8000): Max retries exceeded with url: /api/channels/ (Caused by NewConnectionError('<urllib3.connection.VerifiedHTTPSConnection object at 0x10a6b4588>: Failed to establish a new connection: [Errno 61] Connection refused',))\n",
      "\n",
      "\n",
      "***** Starting channel build process *****\n",
      "\n",
      "\n",
      "Calling construct_channel... \n",
      "   Setting up initial channel structure... \n",
      "   Validating channel structure...\n",
      "      Languages test channel (ChannelNode): 6 descendants\n",
      "         New Topic in English (TopicNode): 1 descendant\n",
      "            Some doc in English (DocumentNode): 1 file\n",
      "         Topic in Spanish (TopicNode): 1 descendant\n",
      "            Some doc in Spanish (DocumentNode): 1 file\n",
      "         Topic in French (TopicNode): 1 descendant\n",
      "            Some doc in English (DocumentNode): 1 file\n",
      "   Tree is valid\n",
      "\n",
      "Processing content...\n",
      "\t--- Downloaded e8b1fe37ce3da500241b4af4e018a2d7.pdf\n",
      "\t--- Downloaded cef22cce0e1d3ba08861fc97476b8ccf.pdf\n",
      "\t--- Downloaded 6c8730e3e2554e6eac0ad79304bbcc68.pdf\n",
      "\t--- Downloaded de498249b8d4395a4ef9db17ec02dc91.png\n",
      "   All files were successfully downloaded\n",
      "\n",
      "Checking if files exist on Kolibri Studio...\n"
     ]
    },
    {
     "name": "stdout",
     "output_type": "stream",
     "text": [
      "Downloading files...\n",
      "Getting file diff...\n"
     ]
    },
    {
     "name": "stderr",
     "output_type": "stream",
     "text": [
      "\tGot file diff for 11 out of 11 files\n",
      "\n",
      "Uploading 3 new file(s) to Kolibri Studio...\n"
     ]
    },
    {
     "name": "stdout",
     "output_type": "stream",
     "text": [
      "Uploading files...\n"
     ]
    },
    {
     "name": "stderr",
     "output_type": "stream",
     "text": [
      "\tUploaded 1a5fc65557e39764ccd0dd431bf427fc.json (1/3) \n",
      "\tUploaded b2d984e7db31051d20c1b0253ca7d9a8.json (2/3) \n",
      "\tUploaded e5b357e7f2cdb950cf910b196f65f8be.json (3/3) \n",
      "\n",
      "Creating tree on Kolibri Studio...\n",
      "   Creating channel Languages test channel\n"
     ]
    },
    {
     "name": "stdout",
     "output_type": "stream",
     "text": [
      "Creating channel...\n"
     ]
    },
    {
     "name": "stderr",
     "output_type": "stream",
     "text": [
      "\tPreparing fields...\n",
      "(0 of 6 uploaded)    Processing Languages test channel (ChannelNode)\n",
      "(3 of 6 uploaded)       Processing New Topic in English (TopicNode)\n",
      "(4 of 6 uploaded)       Processing Topic in Spanish (TopicNode)\n",
      "(5 of 6 uploaded)       Processing Topic in French (TopicNode)\n",
      "   All nodes were created successfully.\n",
      "Upload time: 2.584841s\n",
      "\n",
      "Publishing tree to Kolibri... \n"
     ]
    },
    {
     "name": "stdout",
     "output_type": "stream",
     "text": [
      "Publishing channel...\n"
     ]
    },
    {
     "name": "stderr",
     "output_type": "stream",
     "text": [
      "\n",
      "\n",
      "DONE: Channel created at https://contentworkshop.learningequality.org/channels/cba91822d3ab5a748cd19532661d690f/edit\n",
      "\n"
     ]
    }
   ],
   "source": [
    "mychef = MySushiChef()\n",
    "args = {'token': 'YOURTOKENHERE9139139f3a23232', 'reset': True, 'verbose': True, 'publish': True}\n",
    "options = {}\n",
    "mychef.run(args, options)"
   ]
  },
  {
   "cell_type": "markdown",
   "metadata": {},
   "source": [
    "Congratulations, you put three languages on the internet!"
   ]
  },
  {
   "cell_type": "code",
   "execution_count": null,
   "metadata": {
    "collapsed": true
   },
   "outputs": [],
   "source": []
  },
  {
   "cell_type": "markdown",
   "metadata": {},
   "source": [
    "### Step 3: Creating Nodes"
   ]
  },
  {
   "cell_type": "code",
   "execution_count": null,
   "metadata": {
    "collapsed": true
   },
   "outputs": [],
   "source": []
  }
 ],
 "metadata": {
  "kernelspec": {
   "display_name": "Python 3",
   "language": "python",
   "name": "python3"
  },
  "language_info": {
   "codemirror_mode": {
    "name": "ipython",
    "version": 3
   },
   "file_extension": ".py",
   "mimetype": "text/x-python",
   "name": "python",
   "nbconvert_exporter": "python",
   "pygments_lexer": "ipython3",
   "version": "3.6.1"
  }
 },
 "nbformat": 4,
 "nbformat_minor": 2
}
