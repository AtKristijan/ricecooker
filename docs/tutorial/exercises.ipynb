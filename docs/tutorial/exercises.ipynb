{
 "cells": [
  {
   "cell_type": "markdown",
   "metadata": {},
   "source": [
    "# `ricecooker` exercises\n",
    "\n",
    "\n",
    "This mini-tutorial will walk you through the steps of running a simple chef script `ExercisesChef` that creates two exercises nodes, and four exercises questions.\n",
    "\n",
    "We'll go over the same steps as described in the Exercises section of the page [nodes](../nodes.md), but this time showing the expected output of each step.\n",
    "\n",
    "\n",
    "### Running the notebooks\n",
    "To follow along and run the code in this notebook, you'll need to clone the `ricecooker` repository, crate a virtual environement, install `ricecooker` using `pip install ricecooker`, install Jypyter notebook using `pip install jupyter`, then start the jupyter notebook server by running `jupyter notebook`. You will then be able to run all the code sections in this notebook and poke around."
   ]
  },
  {
   "cell_type": "markdown",
   "metadata": {},
   "source": [
    "### Creating a Sushi Chef class\n",
    "\n"
   ]
  },
  {
   "cell_type": "code",
   "execution_count": 9,
   "metadata": {},
   "outputs": [],
   "source": [
    "from ricecooker.chefs import SushiChef\n",
    "from ricecooker.classes.nodes import TopicNode, ExerciseNode\n",
    "from ricecooker.classes.questions import SingleSelectQuestion, MultipleSelectQuestion, InputQuestion, PerseusQuestion\n",
    "from ricecooker.classes.licenses import get_license\n",
    "from le_utils.constants import licenses\n",
    "from le_utils.constants import exercises\n",
    "from le_utils.constants.languages import getlang\n",
    "\n",
    "\n",
    "class SimpleChef(SushiChef):\n",
    "    channel_info = {\n",
    "        'CHANNEL_TITLE': 'Sample Exercises',\n",
    "        'CHANNEL_SOURCE_DOMAIN': '<yourdomain.org>',    # where you got the content\n",
    "        'CHANNEL_SOURCE_ID': '<unique id for channel>',  # channel's unique id\n",
    "        'CHANNEL_LANGUAGE': 'en',                        # le_utils language code\n",
    "        'CHANNEL_DESCRIPTION': 'A test channel with different types of exercise questions',      # (optional)\n",
    "        'CHANNEL_THUMBNAIL': None, # (optional)\n",
    "    }\n",
    "\n",
    "    def construct_channel(self, **kwargs):\n",
    "        channel = self.get_channel(**kwargs)\n",
    "        topic = TopicNode(title=\"Math Exercises\", source_id=\"folder-id\")\n",
    "        channel.add_child(topic)\n",
    "\n",
    "        exercise_node = ExerciseNode(\n",
    "            source_id='<some unique id>',\n",
    "            title='Basic questions',\n",
    "            author='LE content team',\n",
    "            description='Showcase of the simple question type supported by Ricecooker and Studio',\n",
    "            language=getlang('en').code,\n",
    "            license=get_license(licenses.PUBLIC_DOMAIN),\n",
    "            thumbnail=None,\n",
    "            exercise_data={\n",
    "                'mastery_model': exercises.M_OF_N,  # \\\n",
    "                'm': 2,                             #   learners must get 2/3 questions correct to complete exercise\n",
    "                'n': 3,                             # /\n",
    "                'randomize': True,                  # show questions in random order\n",
    "            },\n",
    "            questions=[\n",
    "                MultipleSelectQuestion(\n",
    "                    id='sampleEX_Q1',\n",
    "                    question = \"Which numbers the following numbers are even?\",\n",
    "                    correct_answers = [\"2\", \"4\",],\n",
    "                    all_answers = [\"1\", \"2\", \"3\", \"4\", \"5\"],\n",
    "                    hints=['Even numbers are divisible by 2.'],\n",
    "                ),\n",
    "                SingleSelectQuestion(\n",
    "                    id='sampleEX_Q2',\n",
    "                    question = \"What is 2 times 3?\",\n",
    "                    correct_answer = \"6\",\n",
    "                    all_answers = [\"2\", \"3\", \"5\", \"6\"],\n",
    "                    hints=['Multiplication of $a$ by $b$ is like computing the area of a rectangle with length $a$ and width $b$.'],\n",
    "                ),\n",
    "                InputQuestion(\n",
    "                    id='sampleEX_Q3',\n",
    "                    question = \"Name one of the *factors* of 10.\",\n",
    "                    answers = [\"1\", \"2\", \"5\", \"10\"],\n",
    "                    hints=['The factors of a number are the divisors of the number that leave a whole remainder.'],\n",
    "                )\n",
    "            ]\n",
    "        )\n",
    "        topic.add_child(exercise_node)\n",
    "\n",
    "        # LOAD JSON DATA (as string) FOR PERSEUS QUESTIONS    \n",
    "        RAW_PERSEUS_JSON_STR = open('../../examples/data/perseus_graph_question.json', 'r').read()\n",
    "        # or\n",
    "        # import requests\n",
    "        # RAW_PERSEUS_JSON_STR = requests.get('https://raw.githubusercontent.com/learningequality/sample-channels/master/contentnodes/exercise/perseus_graph_question.json').text\n",
    "        exercise_node2 = ExerciseNode(\n",
    "                source_id='<another unique id>',\n",
    "                title='An exercise containing a perseus question',\n",
    "                author='LE content team',\n",
    "                description='An example exercise with a Persus question',\n",
    "                language=getlang('en').code,\n",
    "                license=get_license(licenses.CC_BY, copyright_holder='Copyright holder name'),\n",
    "                thumbnail=None,\n",
    "                exercise_data={\n",
    "                    'mastery_model': exercises.M_OF_N,\n",
    "                    'm': 1,\n",
    "                    'n': 1,\n",
    "                },\n",
    "                questions=[\n",
    "                    PerseusQuestion(\n",
    "                        id='ex2bQ4',\n",
    "                        raw_data=RAW_PERSEUS_JSON_STR,\n",
    "                        source_url='https://github.com/learningequality/sample-channels/blob/master/contentnodes/exercise/perseus_graph_question.json'\n",
    "                    ),\n",
    "                ]\n",
    "        )\n",
    "        topic.add_child(exercise_node2)\n",
    "\n",
    "        return channel\n"
   ]
  },
  {
   "cell_type": "markdown",
   "metadata": {
    "collapsed": true
   },
   "source": [
    "**Note**: make sure you change the values of `CHANNEL_SOURCE_DOMAIN` and `CHANNEL_SOURCE_ID`\n",
    "before you try running this script. The combination of these two values is used\n",
    "to compute the `channel_id` for the Kolibri channel you're creating. If you keep\n",
    "the lines above unchanged, you'll get an error because the channel with source\n",
    "domain 'gov.mb.ca' and source id 'website_docs' already exists on Kolibri Studio."
   ]
  },
  {
   "cell_type": "markdown",
   "metadata": {},
   "source": [
    "Run of you chef by creating an instance of the chef class and calling it's `run` method:"
   ]
  },
  {
   "cell_type": "code",
   "execution_count": 10,
   "metadata": {},
   "outputs": [
    {
     "name": "stderr",
     "output_type": "stream",
     "text": [
      "Logged in with username ivan.savov@gmail.com\n",
      "Ricecooker v0.6.15 is up-to-date.\n",
      "Running get_channel... \n",
      "\n",
      "\n",
      "***** Starting channel build process *****\n",
      "\n",
      "\n",
      "Calling construct_channel... \n",
      "   Setting up initial channel structure... \n",
      "   Validating channel structure...\n",
      "      Sample Exercises (ChannelNode): 3 descendants\n",
      "         Math Exercises (TopicNode): 2 descendants\n",
      "            Basic questions (ExerciseNode): 3 questions\n",
      "            An exercise containing a perseus question (ExerciseNode): 1 question\n",
      "   Tree is valid\n",
      "\n",
      "Downloading files...\n",
      "Processing content...\n",
      "\t*** Processing images for exercise: Basic questions\n",
      "\t*** Images for Basic questions have been processed\n",
      "\t*** Processing images for exercise: An exercise containing a perseus question\n",
      "\t*** Images for An exercise containing a perseus question have been processed\n",
      "   All files were successfully downloaded\n",
      "Getting file diff...\n",
      "\n",
      "Checking if files exist on Kolibri Studio...\n",
      "Uploading files...\n",
      "\n",
      "Uploading 0 new file(s) to Kolibri Studio...\n",
      "Creating channel...\n",
      "\n",
      "Creating tree on Kolibri Studio...\n",
      "   Creating channel Sample Exercises\n",
      "\tPreparing fields...\n",
      "(0 of 3 uploaded)    Processing Sample Exercises (ChannelNode)\n",
      "(1 of 3 uploaded)       Processing Math Exercises (TopicNode)\n",
      "   All nodes were created successfully.\n",
      "Upload time: 36.425115s\n",
      "Publishing channel...\n",
      "\n",
      "Publishing tree to Kolibri... \n",
      "\n",
      "\n",
      "DONE: Channel created at https://contentworkshop.learningequality.org/channels/47147660ecb850bfb71590bf7d1ca971/edit\n",
      "\n"
     ]
    }
   ],
   "source": [
    "mychef = SimpleChef()\n",
    "args = {'token': '70aec3d11849e6691a8806d17f05b18bc5ca5ed4',\n",
    "        'reset': True,\n",
    "        'verbose': True,\n",
    "        'publish': True,\n",
    "        'nomonitor': True}\n",
    "options = {}\n",
    "mychef.run(args, options)"
   ]
  },
  {
   "cell_type": "markdown",
   "metadata": {},
   "source": [
    "Congratulations, you put some math exercises on the internet!"
   ]
  },
  {
   "cell_type": "code",
   "execution_count": null,
   "metadata": {},
   "outputs": [],
   "source": []
  },
  {
   "cell_type": "code",
   "execution_count": null,
   "metadata": {},
   "outputs": [],
   "source": []
  }
 ],
 "metadata": {
  "kernelspec": {
   "display_name": "Python 3",
   "language": "python",
   "name": "python3"
  },
  "language_info": {
   "codemirror_mode": {
    "name": "ipython",
    "version": 3
   },
   "file_extension": ".py",
   "mimetype": "text/x-python",
   "name": "python",
   "nbconvert_exporter": "python",
   "pygments_lexer": "ipython3",
   "version": "3.6.4"
  }
 },
 "nbformat": 4,
 "nbformat_minor": 2
}
